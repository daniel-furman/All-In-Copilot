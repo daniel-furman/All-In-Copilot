{
 "cells": [
  {
   "cell_type": "code",
   "execution_count": 1,
   "metadata": {},
   "outputs": [
    {
     "name": "stderr",
     "output_type": "stream",
     "text": [
      "/Users/danielfurman/Desktop/github_repos/chat-all-in-hf/preprocessing/.venv_preprocessing_all_in/lib/python3.8/site-packages/tqdm/auto.py:21: TqdmWarning: IProgress not found. Please update jupyter and ipywidgets. See https://ipywidgets.readthedocs.io/en/stable/user_install.html\n",
      "  from .autonotebook import tqdm as notebook_tqdm\n"
     ]
    }
   ],
   "source": [
    "from sentence_transformers import SentenceTransformer\n",
    "from nltk.tokenize import sent_tokenize\n",
    "import pandas as pd\n",
    "from torch import randn\n",
    "import numpy as np"
   ]
  },
  {
   "cell_type": "code",
   "execution_count": 40,
   "metadata": {},
   "outputs": [],
   "source": [
    "episode_num = \"E134\""
   ]
  },
  {
   "cell_type": "code",
   "execution_count": 2,
   "metadata": {},
   "outputs": [],
   "source": [
    "model_name = \"sentence-transformers/all-mpnet-base-v2\"\n",
    "model = SentenceTransformer(model_name)"
   ]
  },
  {
   "cell_type": "code",
   "execution_count": 4,
   "metadata": {},
   "outputs": [
    {
     "data": {
      "text/html": [
       "<div>\n",
       "<style scoped>\n",
       "    .dataframe tbody tr th:only-of-type {\n",
       "        vertical-align: middle;\n",
       "    }\n",
       "\n",
       "    .dataframe tbody tr th {\n",
       "        vertical-align: top;\n",
       "    }\n",
       "\n",
       "    .dataframe thead th {\n",
       "        text-align: right;\n",
       "    }\n",
       "</style>\n",
       "<table border=\"1\" class=\"dataframe\">\n",
       "  <thead>\n",
       "    <tr style=\"text-align: right;\">\n",
       "      <th></th>\n",
       "      <th>section_title</th>\n",
       "      <th>section_time_stamp</th>\n",
       "      <th>episode_title</th>\n",
       "      <th>episode_date</th>\n",
       "    </tr>\n",
       "  </thead>\n",
       "  <tbody>\n",
       "    <tr>\n",
       "      <th>0</th>\n",
       "      <td>Bestie intros!: Bad conference lunches, hair f...</td>\n",
       "      <td>0:00 - 12:36</td>\n",
       "      <td>E134: Ukraine counteroffensive, China tensions...</td>\n",
       "      <td>Jun 23, 2023</td>\n",
       "    </tr>\n",
       "    <tr>\n",
       "      <th>1</th>\n",
       "      <td>Zuck vs. Elon cage match</td>\n",
       "      <td>12:36 - 15:50</td>\n",
       "      <td>E134: Ukraine counteroffensive, China tensions...</td>\n",
       "      <td>Jun 23, 2023</td>\n",
       "    </tr>\n",
       "    <tr>\n",
       "      <th>2</th>\n",
       "      <td>Ukraine / Russia updates: underwhelming counte...</td>\n",
       "      <td>15:50 - 33:25</td>\n",
       "      <td>E134: Ukraine counteroffensive, China tensions...</td>\n",
       "      <td>Jun 23, 2023</td>\n",
       "    </tr>\n",
       "    <tr>\n",
       "      <th>3</th>\n",
       "      <td>Blinken's China visit, Biden's \\\"dictator\\\" ga...</td>\n",
       "      <td>33:25 - 51:49</td>\n",
       "      <td>E134: Ukraine counteroffensive, China tensions...</td>\n",
       "      <td>Jun 23, 2023</td>\n",
       "    </tr>\n",
       "    <tr>\n",
       "      <th>4</th>\n",
       "      <td>RFK Jr's Rogan appearance, big pharma's impact...</td>\n",
       "      <td>51:49 - 1:09:59</td>\n",
       "      <td>E134: Ukraine counteroffensive, China tensions...</td>\n",
       "      <td>Jun 23, 2023</td>\n",
       "    </tr>\n",
       "    <tr>\n",
       "      <th>5</th>\n",
       "      <td>Secondary market for depressed startup shares ...</td>\n",
       "      <td>1:09:59 - 1:16:36</td>\n",
       "      <td>E134: Ukraine counteroffensive, China tensions...</td>\n",
       "      <td>Jun 23, 2023</td>\n",
       "    </tr>\n",
       "    <tr>\n",
       "      <th>6</th>\n",
       "      <td>Ford to receive $9.2B federal loan to build ou...</td>\n",
       "      <td>1:16:36 - end</td>\n",
       "      <td>E134: Ukraine counteroffensive, China tensions...</td>\n",
       "      <td>Jun 23, 2023</td>\n",
       "    </tr>\n",
       "  </tbody>\n",
       "</table>\n",
       "</div>"
      ],
      "text/plain": [
       "                                       section_title section_time_stamp  \\\n",
       "0  Bestie intros!: Bad conference lunches, hair f...       0:00 - 12:36   \n",
       "1                           Zuck vs. Elon cage match      12:36 - 15:50   \n",
       "2  Ukraine / Russia updates: underwhelming counte...      15:50 - 33:25   \n",
       "3  Blinken's China visit, Biden's \\\"dictator\\\" ga...      33:25 - 51:49   \n",
       "4  RFK Jr's Rogan appearance, big pharma's impact...    51:49 - 1:09:59   \n",
       "5  Secondary market for depressed startup shares ...  1:09:59 - 1:16:36   \n",
       "6  Ford to receive $9.2B federal loan to build ou...      1:16:36 - end   \n",
       "\n",
       "                                       episode_title  episode_date  \n",
       "0  E134: Ukraine counteroffensive, China tensions...  Jun 23, 2023  \n",
       "1  E134: Ukraine counteroffensive, China tensions...  Jun 23, 2023  \n",
       "2  E134: Ukraine counteroffensive, China tensions...  Jun 23, 2023  \n",
       "3  E134: Ukraine counteroffensive, China tensions...  Jun 23, 2023  \n",
       "4  E134: Ukraine counteroffensive, China tensions...  Jun 23, 2023  \n",
       "5  E134: Ukraine counteroffensive, China tensions...  Jun 23, 2023  \n",
       "6  E134: Ukraine counteroffensive, China tensions...  Jun 23, 2023  "
      ]
     },
     "execution_count": 4,
     "metadata": {},
     "output_type": "execute_result"
    }
   ],
   "source": [
    "df = pd.read_parquet(\n",
    "    f\"data/all-in-transcripts/cleaned/{episode_num}_sections_full_cleaned.parquet\"\n",
    ")\n",
    "df_metadata = df[\n",
    "    [\"section_title\", \"section_time_stamp\", \"episode_title\", \"episode_date\"]\n",
    "]\n",
    "df_metadata"
   ]
  },
  {
   "cell_type": "code",
   "execution_count": 5,
   "metadata": {},
   "outputs": [
    {
     "data": {
      "text/plain": [
       "{'section_title': [],\n",
       " 'section_time_stamp': [],\n",
       " 'episode_title': [],\n",
       " 'episode_date': [],\n",
       " 'sentences': []}"
      ]
     },
     "execution_count": 5,
     "metadata": {},
     "output_type": "execute_result"
    }
   ],
   "source": [
    "sentence_embeddings_metadata = {}\n",
    "\n",
    "for col in df_metadata.columns:\n",
    "    sentence_embeddings_metadata[col] = []\n",
    "sentence_embeddings_metadata[\"sentences\"] = []\n",
    "sentence_embeddings_metadata"
   ]
  },
  {
   "cell_type": "code",
   "execution_count": 6,
   "metadata": {},
   "outputs": [],
   "source": [
    "i_sentence = 0\n",
    "for i_row, section in enumerate(df[\"section_dialogue\"]):\n",
    "    sentences = sent_tokenize(section)\n",
    "    for sent in sentences:\n",
    "        for col in df_metadata.columns:\n",
    "            sentence_embeddings_metadata[col].append(df_metadata[col][i_row])\n",
    "        sentence_embeddings_metadata[\"sentences\"].append(sent)\n",
    "\n",
    "        i_sentence += 1\n",
    "    i_sentence = 0"
   ]
  },
  {
   "cell_type": "code",
   "execution_count": 8,
   "metadata": {},
   "outputs": [
    {
     "data": {
      "text/html": [
       "<div>\n",
       "<style scoped>\n",
       "    .dataframe tbody tr th:only-of-type {\n",
       "        vertical-align: middle;\n",
       "    }\n",
       "\n",
       "    .dataframe tbody tr th {\n",
       "        vertical-align: top;\n",
       "    }\n",
       "\n",
       "    .dataframe thead th {\n",
       "        text-align: right;\n",
       "    }\n",
       "</style>\n",
       "<table border=\"1\" class=\"dataframe\">\n",
       "  <thead>\n",
       "    <tr style=\"text-align: right;\">\n",
       "      <th></th>\n",
       "      <th>section_title</th>\n",
       "      <th>section_time_stamp</th>\n",
       "      <th>episode_title</th>\n",
       "      <th>episode_date</th>\n",
       "      <th>sentences</th>\n",
       "    </tr>\n",
       "  </thead>\n",
       "  <tbody>\n",
       "    <tr>\n",
       "      <th>0</th>\n",
       "      <td>Bestie intros!: Bad conference lunches, hair f...</td>\n",
       "      <td>0:00 - 12:36</td>\n",
       "      <td>E134: Ukraine counteroffensive, China tensions...</td>\n",
       "      <td>Jun 23, 2023</td>\n",
       "      <td>So wait a second, you guys.</td>\n",
       "    </tr>\n",
       "    <tr>\n",
       "      <th>1</th>\n",
       "      <td>Bestie intros!: Bad conference lunches, hair f...</td>\n",
       "      <td>0:00 - 12:36</td>\n",
       "      <td>E134: Ukraine counteroffensive, China tensions...</td>\n",
       "      <td>Jun 23, 2023</td>\n",
       "      <td>I saw that you were at a Kotu conference or a ...</td>\n",
       "    </tr>\n",
       "    <tr>\n",
       "      <th>2</th>\n",
       "      <td>Bestie intros!: Bad conference lunches, hair f...</td>\n",
       "      <td>0:00 - 12:36</td>\n",
       "      <td>E134: Ukraine counteroffensive, China tensions...</td>\n",
       "      <td>Jun 23, 2023</td>\n",
       "      <td>Sax, Brad, and I were both at the Coaching Sum...</td>\n",
       "    </tr>\n",
       "    <tr>\n",
       "      <th>3</th>\n",
       "      <td>Bestie intros!: Bad conference lunches, hair f...</td>\n",
       "      <td>0:00 - 12:36</td>\n",
       "      <td>E134: Ukraine counteroffensive, China tensions...</td>\n",
       "      <td>Jun 23, 2023</td>\n",
       "      <td>CO2 Kotu is, uh, and a large investor.</td>\n",
       "    </tr>\n",
       "    <tr>\n",
       "      <th>4</th>\n",
       "      <td>Bestie intros!: Bad conference lunches, hair f...</td>\n",
       "      <td>0:00 - 12:36</td>\n",
       "      <td>E134: Ukraine counteroffensive, China tensions...</td>\n",
       "      <td>Jun 23, 2023</td>\n",
       "      <td>Is it a hedge fund, private equity?</td>\n",
       "    </tr>\n",
       "    <tr>\n",
       "      <th>...</th>\n",
       "      <td>...</td>\n",
       "      <td>...</td>\n",
       "      <td>...</td>\n",
       "      <td>...</td>\n",
       "      <td>...</td>\n",
       "    </tr>\n",
       "    <tr>\n",
       "      <th>1136</th>\n",
       "      <td>Ford to receive $9.2B federal loan to build ou...</td>\n",
       "      <td>1:16:36 - end</td>\n",
       "      <td>E134: Ukraine counteroffensive, China tensions...</td>\n",
       "      <td>Jun 23, 2023</td>\n",
       "      <td>Bye-bye.</td>\n",
       "    </tr>\n",
       "    <tr>\n",
       "      <th>1137</th>\n",
       "      <td>Ford to receive $9.2B federal loan to build ou...</td>\n",
       "      <td>1:16:36 - end</td>\n",
       "      <td>E134: Ukraine counteroffensive, China tensions...</td>\n",
       "      <td>Jun 23, 2023</td>\n",
       "      <td>Love you, boys.</td>\n",
       "    </tr>\n",
       "    <tr>\n",
       "      <th>1138</th>\n",
       "      <td>Ford to receive $9.2B federal loan to build ou...</td>\n",
       "      <td>1:16:36 - end</td>\n",
       "      <td>E134: Ukraine counteroffensive, China tensions...</td>\n",
       "      <td>Jun 23, 2023</td>\n",
       "      <td>We'll let your winners ride.</td>\n",
       "    </tr>\n",
       "    <tr>\n",
       "      <th>1139</th>\n",
       "      <td>Ford to receive $9.2B federal loan to build ou...</td>\n",
       "      <td>1:16:36 - end</td>\n",
       "      <td>E134: Ukraine counteroffensive, China tensions...</td>\n",
       "      <td>Jun 23, 2023</td>\n",
       "      <td>We open source it to the fans, and they've jus...</td>\n",
       "    </tr>\n",
       "    <tr>\n",
       "      <th>1140</th>\n",
       "      <td>Ford to receive $9.2B federal loan to build ou...</td>\n",
       "      <td>1:16:36 - end</td>\n",
       "      <td>E134: Ukraine counteroffensive, China tensions...</td>\n",
       "      <td>Jun 23, 2023</td>\n",
       "      <td>Somehow, waiting to get mercies.</td>\n",
       "    </tr>\n",
       "  </tbody>\n",
       "</table>\n",
       "<p>1141 rows × 5 columns</p>\n",
       "</div>"
      ],
      "text/plain": [
       "                                          section_title section_time_stamp  \\\n",
       "0     Bestie intros!: Bad conference lunches, hair f...       0:00 - 12:36   \n",
       "1     Bestie intros!: Bad conference lunches, hair f...       0:00 - 12:36   \n",
       "2     Bestie intros!: Bad conference lunches, hair f...       0:00 - 12:36   \n",
       "3     Bestie intros!: Bad conference lunches, hair f...       0:00 - 12:36   \n",
       "4     Bestie intros!: Bad conference lunches, hair f...       0:00 - 12:36   \n",
       "...                                                 ...                ...   \n",
       "1136  Ford to receive $9.2B federal loan to build ou...      1:16:36 - end   \n",
       "1137  Ford to receive $9.2B federal loan to build ou...      1:16:36 - end   \n",
       "1138  Ford to receive $9.2B federal loan to build ou...      1:16:36 - end   \n",
       "1139  Ford to receive $9.2B federal loan to build ou...      1:16:36 - end   \n",
       "1140  Ford to receive $9.2B federal loan to build ou...      1:16:36 - end   \n",
       "\n",
       "                                          episode_title  episode_date  \\\n",
       "0     E134: Ukraine counteroffensive, China tensions...  Jun 23, 2023   \n",
       "1     E134: Ukraine counteroffensive, China tensions...  Jun 23, 2023   \n",
       "2     E134: Ukraine counteroffensive, China tensions...  Jun 23, 2023   \n",
       "3     E134: Ukraine counteroffensive, China tensions...  Jun 23, 2023   \n",
       "4     E134: Ukraine counteroffensive, China tensions...  Jun 23, 2023   \n",
       "...                                                 ...           ...   \n",
       "1136  E134: Ukraine counteroffensive, China tensions...  Jun 23, 2023   \n",
       "1137  E134: Ukraine counteroffensive, China tensions...  Jun 23, 2023   \n",
       "1138  E134: Ukraine counteroffensive, China tensions...  Jun 23, 2023   \n",
       "1139  E134: Ukraine counteroffensive, China tensions...  Jun 23, 2023   \n",
       "1140  E134: Ukraine counteroffensive, China tensions...  Jun 23, 2023   \n",
       "\n",
       "                                              sentences  \n",
       "0                           So wait a second, you guys.  \n",
       "1     I saw that you were at a Kotu conference or a ...  \n",
       "2     Sax, Brad, and I were both at the Coaching Sum...  \n",
       "3                CO2 Kotu is, uh, and a large investor.  \n",
       "4                   Is it a hedge fund, private equity?  \n",
       "...                                                 ...  \n",
       "1136                                           Bye-bye.  \n",
       "1137                                    Love you, boys.  \n",
       "1138                       We'll let your winners ride.  \n",
       "1139  We open source it to the fans, and they've jus...  \n",
       "1140                   Somehow, waiting to get mercies.  \n",
       "\n",
       "[1141 rows x 5 columns]"
      ]
     },
     "execution_count": 8,
     "metadata": {},
     "output_type": "execute_result"
    }
   ],
   "source": [
    "sentence_embeddings_metadata_df = pd.DataFrame.from_dict(sentence_embeddings_metadata)\n",
    "\n",
    "sentence_embeddings_metadata_df"
   ]
  },
  {
   "cell_type": "code",
   "execution_count": 16,
   "metadata": {},
   "outputs": [
    {
     "data": {
      "text/plain": [
       "'Somehow, waiting to get mercies.'"
      ]
     },
     "execution_count": 16,
     "metadata": {},
     "output_type": "execute_result"
    }
   ],
   "source": [
    "sentence_embeddings_metadata_df.loc[1140][\"sentences\"]"
   ]
  },
  {
   "cell_type": "code",
   "execution_count": 9,
   "metadata": {},
   "outputs": [
    {
     "data": {
      "text/plain": [
       "array([[0., 0., 0., ..., 0., 0., 0.],\n",
       "       [0., 0., 0., ..., 0., 0., 0.],\n",
       "       [0., 0., 0., ..., 0., 0., 0.],\n",
       "       ...,\n",
       "       [0., 0., 0., ..., 0., 0., 0.],\n",
       "       [0., 0., 0., ..., 0., 0., 0.],\n",
       "       [0., 0., 0., ..., 0., 0., 0.]])"
      ]
     },
     "execution_count": 9,
     "metadata": {},
     "output_type": "execute_result"
    }
   ],
   "source": [
    "corpus_emb = np.zeros([len(sentence_embeddings_metadata_df.section_title), 768])\n",
    "corpus_emb.shape\n",
    "corpus_emb"
   ]
  },
  {
   "cell_type": "code",
   "execution_count": 10,
   "metadata": {},
   "outputs": [],
   "source": [
    "i_sentence = 0\n",
    "for i_row, section in enumerate(df[\"section_dialogue\"]):\n",
    "    sentences = sent_tokenize(section)\n",
    "    for sent in sentences:\n",
    "        corpus_emb[i_sentence, :] = model.encode(sent, convert_to_tensor=False)\n",
    "        i_sentence += 1"
   ]
  },
  {
   "cell_type": "code",
   "execution_count": 12,
   "metadata": {},
   "outputs": [
    {
     "data": {
      "text/plain": [
       "(1141, 768)"
      ]
     },
     "execution_count": 12,
     "metadata": {},
     "output_type": "execute_result"
    }
   ],
   "source": [
    "corpus_emb.shape"
   ]
  },
  {
   "cell_type": "code",
   "execution_count": 41,
   "metadata": {},
   "outputs": [],
   "source": [
    "np.save(\n",
    "    f\"../embeddings/{episode_num}_sentence_embeddings.npy\",\n",
    "    corpus_emb,\n",
    "    allow_pickle=False,\n",
    ")"
   ]
  },
  {
   "cell_type": "code",
   "execution_count": 42,
   "metadata": {},
   "outputs": [],
   "source": [
    "sentence_embeddings_metadata_df.to_parquet(\n",
    "    f\"../embeddings/{episode_num}_sentence_embeddings_metadata.parquet\"\n",
    ")"
   ]
  },
  {
   "cell_type": "code",
   "execution_count": null,
   "metadata": {},
   "outputs": [],
   "source": []
  }
 ],
 "metadata": {
  "interpreter": {
   "hash": "de08da4cb17752b0a8f047433bfe3bd55e9c1df2843021750bb1436b1bcacf99"
  },
  "kernelspec": {
   "display_name": "Python 3.8.8 64-bit ('.venv_preprocessing_all_in': venv)",
   "name": "python3"
  },
  "language_info": {
   "codemirror_mode": {
    "name": "ipython",
    "version": 3
   },
   "file_extension": ".py",
   "mimetype": "text/x-python",
   "name": "python",
   "nbconvert_exporter": "python",
   "pygments_lexer": "ipython3",
   "version": "3.8.8"
  },
  "orig_nbformat": 4
 },
 "nbformat": 4,
 "nbformat_minor": 2
}
