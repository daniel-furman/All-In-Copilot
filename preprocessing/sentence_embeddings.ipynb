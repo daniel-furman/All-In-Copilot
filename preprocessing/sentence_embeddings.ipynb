{
 "cells": [
  {
   "cell_type": "code",
   "execution_count": 15,
   "metadata": {},
   "outputs": [],
   "source": [
    "from sentence_transformers import SentenceTransformer\n",
    "from nltk.tokenize import sent_tokenize\n",
    "import pandas as pd\n",
    "from torch import randn\n",
    "import numpy as np"
   ]
  },
  {
   "cell_type": "code",
   "execution_count": 16,
   "metadata": {},
   "outputs": [],
   "source": [
    "episode_num = \"E135\""
   ]
  },
  {
   "cell_type": "code",
   "execution_count": 17,
   "metadata": {},
   "outputs": [],
   "source": [
    "model_name = \"sentence-transformers/all-mpnet-base-v2\"\n",
    "model = SentenceTransformer(model_name)"
   ]
  },
  {
   "cell_type": "code",
   "execution_count": 18,
   "metadata": {},
   "outputs": [
    {
     "data": {
      "text/html": [
       "<div>\n",
       "<style scoped>\n",
       "    .dataframe tbody tr th:only-of-type {\n",
       "        vertical-align: middle;\n",
       "    }\n",
       "\n",
       "    .dataframe tbody tr th {\n",
       "        vertical-align: top;\n",
       "    }\n",
       "\n",
       "    .dataframe thead th {\n",
       "        text-align: right;\n",
       "    }\n",
       "</style>\n",
       "<table border=\"1\" class=\"dataframe\">\n",
       "  <thead>\n",
       "    <tr style=\"text-align: right;\">\n",
       "      <th></th>\n",
       "      <th>section_title</th>\n",
       "      <th>section_dialogue</th>\n",
       "      <th>section_time_stamp</th>\n",
       "      <th>episode_title</th>\n",
       "      <th>episode_date</th>\n",
       "    </tr>\n",
       "  </thead>\n",
       "  <tbody>\n",
       "    <tr>\n",
       "      <th>0</th>\n",
       "      <td>Bestie intros: Friedberg fills in as moderator!</td>\n",
       "      <td>This is going to be a feisty episode. Is it tw...</td>\n",
       "      <td>0:00 - 2:45</td>\n",
       "      <td>E135: Wagner rebels, SCOTUS ends AA, AI M&amp;A, s...</td>\n",
       "      <td>Jun 30, 2023</td>\n",
       "    </tr>\n",
       "    <tr>\n",
       "      <th>1</th>\n",
       "      <td>Wagner Group rebellion</td>\n",
       "      <td>The Wagner Group attempted coup, or potential ...</td>\n",
       "      <td>2:45 - 23:15</td>\n",
       "      <td>E135: Wagner rebels, SCOTUS ends AA, AI M&amp;A, s...</td>\n",
       "      <td>Jun 30, 2023</td>\n",
       "    </tr>\n",
       "    <tr>\n",
       "      <th>2</th>\n",
       "      <td>SCOTUS strikes down Affirmative Action</td>\n",
       "      <td>1997 fall in '97, and it was the last year tha...</td>\n",
       "      <td>23:15 - 51:03</td>\n",
       "      <td>E135: Wagner rebels, SCOTUS ends AA, AI M&amp;A, s...</td>\n",
       "      <td>Jun 30, 2023</td>\n",
       "    </tr>\n",
       "    <tr>\n",
       "      <th>3</th>\n",
       "      <td>Databricks acquires MosaicML for $1.3B, Inflec...</td>\n",
       "      <td>The AI frenzy continues here in Silicon Valley...</td>\n",
       "      <td>51:03 - 1:09:35</td>\n",
       "      <td>E135: Wagner rebels, SCOTUS ends AA, AI M&amp;A, s...</td>\n",
       "      <td>Jun 30, 2023</td>\n",
       "    </tr>\n",
       "    <tr>\n",
       "      <th>4</th>\n",
       "      <td>IRL shuts down after faking 95% of users, Byju...</td>\n",
       "      <td>As Ukraine is Saks, is because you've talked a...</td>\n",
       "      <td>1:09:35 - 1:26:38</td>\n",
       "      <td>E135: Wagner rebels, SCOTUS ends AA, AI M&amp;A, s...</td>\n",
       "      <td>Jun 30, 2023</td>\n",
       "    </tr>\n",
       "    <tr>\n",
       "      <th>5</th>\n",
       "      <td>Science Corner: Understanding the NANOGrav fin...</td>\n",
       "      <td>That came out yesterday. Okay, I'll cover this...</td>\n",
       "      <td>1:26:38 - end</td>\n",
       "      <td>E135: Wagner rebels, SCOTUS ends AA, AI M&amp;A, s...</td>\n",
       "      <td>Jun 30, 2023</td>\n",
       "    </tr>\n",
       "  </tbody>\n",
       "</table>\n",
       "</div>"
      ],
      "text/plain": [
       "                                       section_title  \\\n",
       "0    Bestie intros: Friedberg fills in as moderator!   \n",
       "1                             Wagner Group rebellion   \n",
       "2             SCOTUS strikes down Affirmative Action   \n",
       "3  Databricks acquires MosaicML for $1.3B, Inflec...   \n",
       "4  IRL shuts down after faking 95% of users, Byju...   \n",
       "5  Science Corner: Understanding the NANOGrav fin...   \n",
       "\n",
       "                                    section_dialogue section_time_stamp  \\\n",
       "0  This is going to be a feisty episode. Is it tw...        0:00 - 2:45   \n",
       "1  The Wagner Group attempted coup, or potential ...       2:45 - 23:15   \n",
       "2  1997 fall in '97, and it was the last year tha...      23:15 - 51:03   \n",
       "3  The AI frenzy continues here in Silicon Valley...    51:03 - 1:09:35   \n",
       "4  As Ukraine is Saks, is because you've talked a...  1:09:35 - 1:26:38   \n",
       "5  That came out yesterday. Okay, I'll cover this...      1:26:38 - end   \n",
       "\n",
       "                                       episode_title  episode_date  \n",
       "0  E135: Wagner rebels, SCOTUS ends AA, AI M&A, s...  Jun 30, 2023  \n",
       "1  E135: Wagner rebels, SCOTUS ends AA, AI M&A, s...  Jun 30, 2023  \n",
       "2  E135: Wagner rebels, SCOTUS ends AA, AI M&A, s...  Jun 30, 2023  \n",
       "3  E135: Wagner rebels, SCOTUS ends AA, AI M&A, s...  Jun 30, 2023  \n",
       "4  E135: Wagner rebels, SCOTUS ends AA, AI M&A, s...  Jun 30, 2023  \n",
       "5  E135: Wagner rebels, SCOTUS ends AA, AI M&A, s...  Jun 30, 2023  "
      ]
     },
     "execution_count": 18,
     "metadata": {},
     "output_type": "execute_result"
    }
   ],
   "source": [
    "df = pd.read_parquet(\n",
    "    f\"data/all-in-transcripts/cleaned/{episode_num}_sections_full_cleaned.parquet\"\n",
    ")\n",
    "df"
   ]
  },
  {
   "cell_type": "code",
   "execution_count": 19,
   "metadata": {},
   "outputs": [],
   "source": [
    "# add special starting sentence with section num and title to dialogue\n",
    "for i in range(len(df)):\n",
    "    row = df.loc[i]\n",
    "    starter_sentence = f\"Section {i+1}. \"\n",
    "    row.section_dialogue = starter_sentence + row.section_dialogue\n",
    "\n",
    "# df.section_dialogue.loc[6]\n",
    "df"
   ]
  },
  {
   "cell_type": "code",
   "execution_count": 20,
   "metadata": {},
   "outputs": [
    {
     "data": {
      "text/html": [
       "<div>\n",
       "<style scoped>\n",
       "    .dataframe tbody tr th:only-of-type {\n",
       "        vertical-align: middle;\n",
       "    }\n",
       "\n",
       "    .dataframe tbody tr th {\n",
       "        vertical-align: top;\n",
       "    }\n",
       "\n",
       "    .dataframe thead th {\n",
       "        text-align: right;\n",
       "    }\n",
       "</style>\n",
       "<table border=\"1\" class=\"dataframe\">\n",
       "  <thead>\n",
       "    <tr style=\"text-align: right;\">\n",
       "      <th></th>\n",
       "      <th>section_title</th>\n",
       "      <th>section_time_stamp</th>\n",
       "      <th>episode_title</th>\n",
       "      <th>episode_date</th>\n",
       "    </tr>\n",
       "  </thead>\n",
       "  <tbody>\n",
       "    <tr>\n",
       "      <th>0</th>\n",
       "      <td>Bestie intros: Friedberg fills in as moderator!</td>\n",
       "      <td>0:00 - 2:45</td>\n",
       "      <td>E135: Wagner rebels, SCOTUS ends AA, AI M&amp;A, s...</td>\n",
       "      <td>Jun 30, 2023</td>\n",
       "    </tr>\n",
       "    <tr>\n",
       "      <th>1</th>\n",
       "      <td>Wagner Group rebellion</td>\n",
       "      <td>2:45 - 23:15</td>\n",
       "      <td>E135: Wagner rebels, SCOTUS ends AA, AI M&amp;A, s...</td>\n",
       "      <td>Jun 30, 2023</td>\n",
       "    </tr>\n",
       "    <tr>\n",
       "      <th>2</th>\n",
       "      <td>SCOTUS strikes down Affirmative Action</td>\n",
       "      <td>23:15 - 51:03</td>\n",
       "      <td>E135: Wagner rebels, SCOTUS ends AA, AI M&amp;A, s...</td>\n",
       "      <td>Jun 30, 2023</td>\n",
       "    </tr>\n",
       "    <tr>\n",
       "      <th>3</th>\n",
       "      <td>Databricks acquires MosaicML for $1.3B, Inflec...</td>\n",
       "      <td>51:03 - 1:09:35</td>\n",
       "      <td>E135: Wagner rebels, SCOTUS ends AA, AI M&amp;A, s...</td>\n",
       "      <td>Jun 30, 2023</td>\n",
       "    </tr>\n",
       "    <tr>\n",
       "      <th>4</th>\n",
       "      <td>IRL shuts down after faking 95% of users, Byju...</td>\n",
       "      <td>1:09:35 - 1:26:38</td>\n",
       "      <td>E135: Wagner rebels, SCOTUS ends AA, AI M&amp;A, s...</td>\n",
       "      <td>Jun 30, 2023</td>\n",
       "    </tr>\n",
       "    <tr>\n",
       "      <th>5</th>\n",
       "      <td>Science Corner: Understanding the NANOGrav fin...</td>\n",
       "      <td>1:26:38 - end</td>\n",
       "      <td>E135: Wagner rebels, SCOTUS ends AA, AI M&amp;A, s...</td>\n",
       "      <td>Jun 30, 2023</td>\n",
       "    </tr>\n",
       "  </tbody>\n",
       "</table>\n",
       "</div>"
      ],
      "text/plain": [
       "                                       section_title section_time_stamp  \\\n",
       "0    Bestie intros: Friedberg fills in as moderator!        0:00 - 2:45   \n",
       "1                             Wagner Group rebellion       2:45 - 23:15   \n",
       "2             SCOTUS strikes down Affirmative Action      23:15 - 51:03   \n",
       "3  Databricks acquires MosaicML for $1.3B, Inflec...    51:03 - 1:09:35   \n",
       "4  IRL shuts down after faking 95% of users, Byju...  1:09:35 - 1:26:38   \n",
       "5  Science Corner: Understanding the NANOGrav fin...      1:26:38 - end   \n",
       "\n",
       "                                       episode_title  episode_date  \n",
       "0  E135: Wagner rebels, SCOTUS ends AA, AI M&A, s...  Jun 30, 2023  \n",
       "1  E135: Wagner rebels, SCOTUS ends AA, AI M&A, s...  Jun 30, 2023  \n",
       "2  E135: Wagner rebels, SCOTUS ends AA, AI M&A, s...  Jun 30, 2023  \n",
       "3  E135: Wagner rebels, SCOTUS ends AA, AI M&A, s...  Jun 30, 2023  \n",
       "4  E135: Wagner rebels, SCOTUS ends AA, AI M&A, s...  Jun 30, 2023  \n",
       "5  E135: Wagner rebels, SCOTUS ends AA, AI M&A, s...  Jun 30, 2023  "
      ]
     },
     "execution_count": 20,
     "metadata": {},
     "output_type": "execute_result"
    }
   ],
   "source": [
    "df_metadata = df[\n",
    "    [\"section_title\", \"section_time_stamp\", \"episode_title\", \"episode_date\"]\n",
    "]\n",
    "df_metadata"
   ]
  },
  {
   "cell_type": "code",
   "execution_count": 21,
   "metadata": {},
   "outputs": [],
   "source": [
    "sentence_embeddings_metadata = {}\n",
    "for col in df_metadata.columns:\n",
    "    sentence_embeddings_metadata[col] = []\n",
    "sentence_embeddings_metadata[\"sentences\"] = []\n",
    "sentence_embeddings_metadata\n",
    "i_sentence = 0\n",
    "for i_row, section in enumerate(df[\"section_dialogue\"]):\n",
    "    sentences = sent_tokenize(section)\n",
    "    # print(sentences)\n",
    "    for sent in sentences:\n",
    "        for col in df_metadata.columns:\n",
    "            sentence_embeddings_metadata[col].append(df_metadata[col][i_row])\n",
    "        sentence_embeddings_metadata[\"sentences\"].append(sent)\n",
    "\n",
    "        i_sentence += 1\n",
    "    i_sentence = 0"
   ]
  },
  {
   "cell_type": "code",
   "execution_count": 22,
   "metadata": {},
   "outputs": [
    {
     "data": {
      "text/html": [
       "<div>\n",
       "<style scoped>\n",
       "    .dataframe tbody tr th:only-of-type {\n",
       "        vertical-align: middle;\n",
       "    }\n",
       "\n",
       "    .dataframe tbody tr th {\n",
       "        vertical-align: top;\n",
       "    }\n",
       "\n",
       "    .dataframe thead th {\n",
       "        text-align: right;\n",
       "    }\n",
       "</style>\n",
       "<table border=\"1\" class=\"dataframe\">\n",
       "  <thead>\n",
       "    <tr style=\"text-align: right;\">\n",
       "      <th></th>\n",
       "      <th>section_title</th>\n",
       "      <th>section_time_stamp</th>\n",
       "      <th>episode_title</th>\n",
       "      <th>episode_date</th>\n",
       "      <th>sentences</th>\n",
       "    </tr>\n",
       "  </thead>\n",
       "  <tbody>\n",
       "    <tr>\n",
       "      <th>0</th>\n",
       "      <td>Bestie intros: Friedberg fills in as moderator!</td>\n",
       "      <td>0:00 - 2:45</td>\n",
       "      <td>E135: Wagner rebels, SCOTUS ends AA, AI M&amp;A, s...</td>\n",
       "      <td>Jun 30, 2023</td>\n",
       "      <td>This is going to be a feisty episode.</td>\n",
       "    </tr>\n",
       "    <tr>\n",
       "      <th>1</th>\n",
       "      <td>Bestie intros: Friedberg fills in as moderator!</td>\n",
       "      <td>0:00 - 2:45</td>\n",
       "      <td>E135: Wagner rebels, SCOTUS ends AA, AI M&amp;A, s...</td>\n",
       "      <td>Jun 30, 2023</td>\n",
       "      <td>Is it two of us are on Greenwich Mean Time?</td>\n",
       "    </tr>\n",
       "    <tr>\n",
       "      <th>2</th>\n",
       "      <td>Bestie intros: Friedberg fills in as moderator!</td>\n",
       "      <td>0:00 - 2:45</td>\n",
       "      <td>E135: Wagner rebels, SCOTUS ends AA, AI M&amp;A, s...</td>\n",
       "      <td>Jun 30, 2023</td>\n",
       "      <td>Two of us are in Pacific J Cal.</td>\n",
       "    </tr>\n",
       "    <tr>\n",
       "      <th>3</th>\n",
       "      <td>Bestie intros: Friedberg fills in as moderator!</td>\n",
       "      <td>0:00 - 2:45</td>\n",
       "      <td>E135: Wagner rebels, SCOTUS ends AA, AI M&amp;A, s...</td>\n",
       "      <td>Jun 30, 2023</td>\n",
       "      <td>Still, would sleep in his head.</td>\n",
       "    </tr>\n",
       "    <tr>\n",
       "      <th>4</th>\n",
       "      <td>Bestie intros: Friedberg fills in as moderator!</td>\n",
       "      <td>0:00 - 2:45</td>\n",
       "      <td>E135: Wagner rebels, SCOTUS ends AA, AI M&amp;A, s...</td>\n",
       "      <td>Jun 30, 2023</td>\n",
       "      <td>I'm good, actually.</td>\n",
       "    </tr>\n",
       "    <tr>\n",
       "      <th>...</th>\n",
       "      <td>...</td>\n",
       "      <td>...</td>\n",
       "      <td>...</td>\n",
       "      <td>...</td>\n",
       "      <td>...</td>\n",
       "    </tr>\n",
       "    <tr>\n",
       "      <th>973</th>\n",
       "      <td>Science Corner: Understanding the NANOGrav fin...</td>\n",
       "      <td>1:26:38 - end</td>\n",
       "      <td>E135: Wagner rebels, SCOTUS ends AA, AI M&amp;A, s...</td>\n",
       "      <td>Jun 30, 2023</td>\n",
       "      <td>We'll see you next time, KCRW.</td>\n",
       "    </tr>\n",
       "    <tr>\n",
       "      <th>974</th>\n",
       "      <td>Science Corner: Understanding the NANOGrav fin...</td>\n",
       "      <td>1:26:38 - end</td>\n",
       "      <td>E135: Wagner rebels, SCOTUS ends AA, AI M&amp;A, s...</td>\n",
       "      <td>Jun 30, 2023</td>\n",
       "      <td>I can do any of these radio bits.</td>\n",
       "    </tr>\n",
       "    <tr>\n",
       "      <th>975</th>\n",
       "      <td>Science Corner: Understanding the NANOGrav fin...</td>\n",
       "      <td>1:26:38 - end</td>\n",
       "      <td>E135: Wagner rebels, SCOTUS ends AA, AI M&amp;A, s...</td>\n",
       "      <td>Jun 30, 2023</td>\n",
       "      <td>Love you guys.</td>\n",
       "    </tr>\n",
       "    <tr>\n",
       "      <th>976</th>\n",
       "      <td>Science Corner: Understanding the NANOGrav fin...</td>\n",
       "      <td>1:26:38 - end</td>\n",
       "      <td>E135: Wagner rebels, SCOTUS ends AA, AI M&amp;A, s...</td>\n",
       "      <td>Jun 30, 2023</td>\n",
       "      <td>We'll let your winners ride.</td>\n",
       "    </tr>\n",
       "    <tr>\n",
       "      <th>977</th>\n",
       "      <td>Science Corner: Understanding the NANOGrav fin...</td>\n",
       "      <td>1:26:38 - end</td>\n",
       "      <td>E135: Wagner rebels, SCOTUS ends AA, AI M&amp;A, s...</td>\n",
       "      <td>Jun 30, 2023</td>\n",
       "      <td>Besties, it's like this sexual tension that we...</td>\n",
       "    </tr>\n",
       "  </tbody>\n",
       "</table>\n",
       "<p>978 rows × 5 columns</p>\n",
       "</div>"
      ],
      "text/plain": [
       "                                         section_title section_time_stamp  \\\n",
       "0      Bestie intros: Friedberg fills in as moderator!        0:00 - 2:45   \n",
       "1      Bestie intros: Friedberg fills in as moderator!        0:00 - 2:45   \n",
       "2      Bestie intros: Friedberg fills in as moderator!        0:00 - 2:45   \n",
       "3      Bestie intros: Friedberg fills in as moderator!        0:00 - 2:45   \n",
       "4      Bestie intros: Friedberg fills in as moderator!        0:00 - 2:45   \n",
       "..                                                 ...                ...   \n",
       "973  Science Corner: Understanding the NANOGrav fin...      1:26:38 - end   \n",
       "974  Science Corner: Understanding the NANOGrav fin...      1:26:38 - end   \n",
       "975  Science Corner: Understanding the NANOGrav fin...      1:26:38 - end   \n",
       "976  Science Corner: Understanding the NANOGrav fin...      1:26:38 - end   \n",
       "977  Science Corner: Understanding the NANOGrav fin...      1:26:38 - end   \n",
       "\n",
       "                                         episode_title  episode_date  \\\n",
       "0    E135: Wagner rebels, SCOTUS ends AA, AI M&A, s...  Jun 30, 2023   \n",
       "1    E135: Wagner rebels, SCOTUS ends AA, AI M&A, s...  Jun 30, 2023   \n",
       "2    E135: Wagner rebels, SCOTUS ends AA, AI M&A, s...  Jun 30, 2023   \n",
       "3    E135: Wagner rebels, SCOTUS ends AA, AI M&A, s...  Jun 30, 2023   \n",
       "4    E135: Wagner rebels, SCOTUS ends AA, AI M&A, s...  Jun 30, 2023   \n",
       "..                                                 ...           ...   \n",
       "973  E135: Wagner rebels, SCOTUS ends AA, AI M&A, s...  Jun 30, 2023   \n",
       "974  E135: Wagner rebels, SCOTUS ends AA, AI M&A, s...  Jun 30, 2023   \n",
       "975  E135: Wagner rebels, SCOTUS ends AA, AI M&A, s...  Jun 30, 2023   \n",
       "976  E135: Wagner rebels, SCOTUS ends AA, AI M&A, s...  Jun 30, 2023   \n",
       "977  E135: Wagner rebels, SCOTUS ends AA, AI M&A, s...  Jun 30, 2023   \n",
       "\n",
       "                                             sentences  \n",
       "0                This is going to be a feisty episode.  \n",
       "1          Is it two of us are on Greenwich Mean Time?  \n",
       "2                      Two of us are in Pacific J Cal.  \n",
       "3                      Still, would sleep in his head.  \n",
       "4                                  I'm good, actually.  \n",
       "..                                                 ...  \n",
       "973                     We'll see you next time, KCRW.  \n",
       "974                  I can do any of these radio bits.  \n",
       "975                                     Love you guys.  \n",
       "976                       We'll let your winners ride.  \n",
       "977  Besties, it's like this sexual tension that we...  \n",
       "\n",
       "[978 rows x 5 columns]"
      ]
     },
     "execution_count": 22,
     "metadata": {},
     "output_type": "execute_result"
    }
   ],
   "source": [
    "sentence_embeddings_metadata_df = pd.DataFrame.from_dict(sentence_embeddings_metadata)\n",
    "\n",
    "sentence_embeddings_metadata_df"
   ]
  },
  {
   "cell_type": "code",
   "execution_count": 23,
   "metadata": {},
   "outputs": [
    {
     "data": {
      "text/plain": [
       "'This is going to be a feisty episode.'"
      ]
     },
     "execution_count": 23,
     "metadata": {},
     "output_type": "execute_result"
    }
   ],
   "source": [
    "sentence_embeddings_metadata_df.loc[0][\"sentences\"]"
   ]
  },
  {
   "cell_type": "code",
   "execution_count": 24,
   "metadata": {},
   "outputs": [
    {
     "data": {
      "text/plain": [
       "array([[0., 0., 0., ..., 0., 0., 0.],\n",
       "       [0., 0., 0., ..., 0., 0., 0.],\n",
       "       [0., 0., 0., ..., 0., 0., 0.],\n",
       "       ...,\n",
       "       [0., 0., 0., ..., 0., 0., 0.],\n",
       "       [0., 0., 0., ..., 0., 0., 0.],\n",
       "       [0., 0., 0., ..., 0., 0., 0.]])"
      ]
     },
     "execution_count": 24,
     "metadata": {},
     "output_type": "execute_result"
    }
   ],
   "source": [
    "corpus_emb = np.zeros([len(sentence_embeddings_metadata_df.section_title), 768])\n",
    "corpus_emb.shape\n",
    "corpus_emb"
   ]
  },
  {
   "cell_type": "code",
   "execution_count": 25,
   "metadata": {},
   "outputs": [],
   "source": [
    "i_sentence = 0\n",
    "for i_row, section in enumerate(df[\"section_dialogue\"]):\n",
    "    sentences = sent_tokenize(section)\n",
    "    for sent in sentences:\n",
    "        corpus_emb[i_sentence, :] = model.encode(sent, convert_to_tensor=False)\n",
    "        i_sentence += 1"
   ]
  },
  {
   "cell_type": "code",
   "execution_count": 26,
   "metadata": {},
   "outputs": [
    {
     "data": {
      "text/plain": [
       "(978, 768)"
      ]
     },
     "execution_count": 26,
     "metadata": {},
     "output_type": "execute_result"
    }
   ],
   "source": [
    "corpus_emb.shape"
   ]
  },
  {
   "cell_type": "code",
   "execution_count": 27,
   "metadata": {},
   "outputs": [],
   "source": [
    "np.save(\n",
    "    f\"../embeddings/{episode_num}_sentence_embeddings.npy\",\n",
    "    corpus_emb,\n",
    "    allow_pickle=False,\n",
    ")"
   ]
  },
  {
   "cell_type": "code",
   "execution_count": 28,
   "metadata": {},
   "outputs": [],
   "source": [
    "sentence_embeddings_metadata_df.to_parquet(\n",
    "    f\"../embeddings/{episode_num}_sentence_embeddings_metadata.parquet\"\n",
    ")"
   ]
  },
  {
   "cell_type": "code",
   "execution_count": null,
   "metadata": {},
   "outputs": [],
   "source": []
  }
 ],
 "metadata": {
  "interpreter": {
   "hash": "de08da4cb17752b0a8f047433bfe3bd55e9c1df2843021750bb1436b1bcacf99"
  },
  "kernelspec": {
   "display_name": "Python 3.8.8 64-bit ('.venv_preprocessing_all_in': venv)",
   "name": "python3"
  },
  "language_info": {
   "codemirror_mode": {
    "name": "ipython",
    "version": 3
   },
   "file_extension": ".py",
   "mimetype": "text/x-python",
   "name": "python",
   "nbconvert_exporter": "python",
   "pygments_lexer": "ipython3",
   "version": "3.8.8"
  },
  "orig_nbformat": 4
 },
 "nbformat": 4,
 "nbformat_minor": 2
}
